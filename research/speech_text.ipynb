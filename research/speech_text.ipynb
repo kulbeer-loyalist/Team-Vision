{
 "cells": [
  {
   "cell_type": "markdown",
   "metadata": {},
   "source": [
    "## Text to speech conversion using Pyttsx3"
   ]
  },
  {
   "cell_type": "markdown",
   "metadata": {},
   "source": [
    "## Import and install libraries"
   ]
  },
  {
   "cell_type": "code",
   "execution_count": null,
   "metadata": {},
   "outputs": [],
   "source": [
    "# !pip install pyttsx3"
   ]
  },
  {
   "cell_type": "code",
   "execution_count": null,
   "metadata": {},
   "outputs": [],
   "source": [
    "import pyttsx3\n",
    "\n",
    "def txtToAudio(inputText):\n",
    "    engine = pyttsx3.init()\n",
    "    voices = engine.getProperty('voices')\n",
    "    engine.setProperty('voice', voices[1].id)\n",
    "    engine.say(text=inputText)\n",
    "    engine.runAndWait()"
   ]
  },
  {
   "cell_type": "code",
   "execution_count": null,
   "metadata": {},
   "outputs": [],
   "source": [
    "# inputTextVal = \"This is the text to speech converstion using pyttsx3\"\n",
    "inputTextVal = \"Hi All, This is Team Vision\"\n",
    "txtToAudio(inputTextVal)"
   ]
  },
  {
   "cell_type": "markdown",
   "metadata": {},
   "source": [
    "## Text to speech using Google Text translator"
   ]
  },
  {
   "cell_type": "markdown",
   "metadata": {},
   "source": [
    "# Import and install libraries"
   ]
  },
  {
   "cell_type": "code",
   "execution_count": null,
   "metadata": {},
   "outputs": [],
   "source": [
    "# !pip install gTTS\n",
    "# !pip install librosa"
   ]
  },
  {
   "cell_type": "code",
   "execution_count": null,
   "metadata": {},
   "outputs": [],
   "source": [
    "from gtts import gTTS\n",
    "import IPython.display as ipd"
   ]
  },
  {
   "cell_type": "code",
   "execution_count": null,
   "metadata": {},
   "outputs": [],
   "source": [
    "mytext = \"This is the text to speech converstion using Google Text translator API\"\n",
    "language = 'en'\n",
    "myobj = gTTS(text=inputTextVal, lang=language, slow=False)\n",
    "audioFile = \"affrimations.mp3\"\n",
    "myobj.save(audioFile)\n",
    "ipd.Audio(audioFile)"
   ]
  },
  {
   "cell_type": "code",
   "execution_count": null,
   "metadata": {},
   "outputs": [],
   "source": [
    "from gtts import gTTS\n",
    "import IPython.display as ipd\n",
    "\n",
    "def textToAudioGTT(text, language='en', audio_file=\"text_speechgtts.mp3\"):\n",
    "    myobj = gTTS(text=text, lang=language, slow=False)\n",
    "    myobj.save(audio_file)\n",
    "    return ipd.Audio(audio_file,autoplay=True)\n"
   ]
  },
  {
   "cell_type": "code",
   "execution_count": null,
   "metadata": {},
   "outputs": [],
   "source": [
    "# Example usage\n",
    "my_text = \"Hi, This is team Vision from the project ASLD\"\n",
    "language = 'en'\n",
    "audio = textToAudioGTT(my_text, language)\n",
    "audio"
   ]
  },
  {
   "cell_type": "code",
   "execution_count": null,
   "metadata": {},
   "outputs": [],
   "source": [
    "# !pip install keytotext -q"
   ]
  },
  {
   "cell_type": "code",
   "execution_count": 6,
   "metadata": {},
   "outputs": [
    {
     "name": "stderr",
     "output_type": "stream",
     "text": [
      "Global seed set to 42\n"
     ]
    }
   ],
   "source": [
    "from keytotext import pipeline"
   ]
  },
  {
   "cell_type": "code",
   "execution_count": 7,
   "metadata": {},
   "outputs": [],
   "source": [
    "# models=[\"k2t\",\"k2t-base\",\"mrm8488/t5-base-finetuned-common_gen\"]\n",
    "models_dict = {'k2t_model':\"k2t\",\n",
    "               'k2t_base_model':\"k2t-base\",\n",
    "               'k2t_model_tuned':\"mrm8488/t5-base-finetuned-common_gen\"}"
   ]
  },
  {
   "cell_type": "code",
   "execution_count": 4,
   "metadata": {},
   "outputs": [],
   "source": [
    "model1_list = []\n",
    "model2_list = []\n",
    "model3_list = []"
   ]
  },
  {
   "cell_type": "code",
   "execution_count": 8,
   "metadata": {},
   "outputs": [],
   "source": [
    "def sentence_generation(keywords,model1_list,model2_list,model3_list):\n",
    "    # models=[\"k2t\",\"k2t-base\",\"mrm8488/t5-base-finetuned-common_gen\"]\n",
    "    models_dict = {'k2t_model':\"k2t\",\n",
    "               'k2t_base_model':\"k2t-base\",\n",
    "               'k2t_model_tuned':\"mrm8488/t5-base-finetuned-common_gen\"}\n",
    "    model1 = pipeline(models_dict['k2t_model'])\n",
    "    model2 = pipeline(models_dict['k2t_base_model'])\n",
    "    model3 = pipeline(models_dict['k2t_model_tuned'])\n",
    "    model1_list.append(model1(keywords))\n",
    "    model2_list.append(model2(keywords))\n",
    "    model3_list.append(model3(keywords))\n",
    "    return model1_list,model2_list,model3_list"
   ]
  },
  {
   "cell_type": "code",
   "execution_count": null,
   "metadata": {},
   "outputs": [],
   "source": [
    "import pandas as pd\n",
    "videoMetadata = pd.read_csv(\"E:\\Study Space\\LCIT\\Semester 2\\AISC2006_Step Presentation\\Project\\ASLD\\Data\\metadata.csv\")\n",
    "videoMetadata.head()"
   ]
  },
  {
   "cell_type": "code",
   "execution_count": null,
   "metadata": {},
   "outputs": [],
   "source": [
    "signwords = list(videoMetadata['Sign'].unique())"
   ]
  },
  {
   "cell_type": "code",
   "execution_count": null,
   "metadata": {},
   "outputs": [],
   "source": [
    "import random\n",
    "keywords = random.sample(signwords,3)"
   ]
  },
  {
   "cell_type": "code",
   "execution_count": 23,
   "metadata": {},
   "outputs": [],
   "source": [
    "keywords = ['My','favouraite','subject','Machine Learning']"
   ]
  },
  {
   "cell_type": "code",
   "execution_count": 24,
   "metadata": {},
   "outputs": [],
   "source": [
    "model1_list,model2_list,model3_list = sentence_generation(keywords,model1_list,model2_list,model3_list)"
   ]
  },
  {
   "cell_type": "code",
   "execution_count": 28,
   "metadata": {},
   "outputs": [
    {
     "name": "stdout",
     "output_type": "stream",
     "text": [
      "My name is Irish.\n",
      "I was from India.\n",
      "I was a student at Machine Learning.\n",
      "My| favouraite is a machine learning.\n"
     ]
    }
   ],
   "source": [
    "for sentence in model1_list:\n",
    "    print(sentence)"
   ]
  },
  {
   "cell_type": "code",
   "execution_count": 29,
   "metadata": {},
   "outputs": [
    {
     "name": "stdout",
     "output_type": "stream",
     "text": [
      "The name of the episode written by Griffids is \"Grish\".\n",
      "India is the origin of the dish 'I'.\n",
      "Machine learning is the study of I|class I.\n",
      "The subject of the book \"My Favoraite\" is Machine learning.\n"
     ]
    }
   ],
   "source": [
    "for sentence in model2_list:\n",
    "    print(sentence)"
   ]
  },
  {
   "cell_type": "code",
   "execution_count": 30,
   "metadata": {},
   "outputs": [
    {
     "name": "stdout",
     "output_type": "stream",
     "text": [
      "My name is GIRISH.\n",
      "i am from india... and i love you.\n",
      "A man is studying machine learning.\n",
      "my favourite subject is machine learning.\n"
     ]
    }
   ],
   "source": [
    "for sentence in model3_list:\n",
    "    print(sentence)"
   ]
  },
  {
   "cell_type": "markdown",
   "metadata": {},
   "source": [
    "## Text Summarization"
   ]
  },
  {
   "cell_type": "code",
   "execution_count": 6,
   "metadata": {},
   "outputs": [],
   "source": [
    "ARTICLE = \"\"\" The lotte.com website is requires to build the customer behaviour analysis database to measures every visitor, improve the site efficiency, what pages are visited, what are the activities that are undertaken for enabling diverse analysis, and how visitors are navigate the website. And, the database also captures the number of orders, number of attempts, shopping cart conversion rate and size and customer demographic information. Examining the request preparing stage deflects the most clients and settling those stages change rates can be expanded in light of the fact that, at the point where breakaway happens, client conduct can be figure and advanced promoting exercises can be attempted. Along these lines, plays out the example examination of guests to affect the buys can be all the more successfully and mirrored the client request continuously to guarantee the earlier reactions.\n",
    "\n",
    "The lotte.com website is requires to build the customer behaviour analysis database to measures every visitor, improve the site efficiency, what pages are visited, what are the activities that are undertaken for enabling diverse analysis, and how visitors are navigate the website because the current system does not provide the effective information about the customer details and it does not provide web side efficiency.  And, the website database does not captures the number of orders, number of attempts, shopping cart conversion rate and size and customer demographic information. This problem is leads to decrease the sales. So, lotte.com needs to build the customer behaviour analysis to improve the sales and customer satisfaction (K & Venkatapathy, 2014).\n",
    "\n",
    "The distinguished issues are requirements to lessen by actualized the proposed SAS system for Lotte.com. The SAS system is utilized to advance the advertising productivity examination. The current system is simply investigating the guest numbers just be that as it may, the SAS system is fit for dissecting the change rate like list of things to get, buy consummation, prompt buy, shopping basket contrasted with real guests for each battle type. This system likewise affirm that most mainstream look words utilized by the site guests for each acquired things, crusade type, and area. This system additionally decide the overlay capacity to gauge the quantity of snaps and number of guests for every item present in the page for deciding the incentive of each area of the page. This benefits are used to enables the lotte.com to renew and replace the low traffic products (Kirby-Hawkins, Birkin & Clarke, 2018).  \n",
    "\"\"\""
   ]
  },
  {
   "cell_type": "markdown",
   "metadata": {},
   "source": [
    "## Input Text"
   ]
  },
  {
   "cell_type": "code",
   "execution_count": 33,
   "metadata": {},
   "outputs": [],
   "source": [
    "ARTICLE2= \"\"\"\n",
    "Once upon a time in the hidden village of Konoha, a young and mischievous ninja named Naruto Uzumaki resided. Naruto was an orphan with a dream of becoming the Hokage, the strongest and most respected ninja in the village. However, he faced countless challenges and obstacles along his journey.\n",
    "From a young age, Naruto had an indomitable spirit and an unwavering determination. But there was something unique about him. He possessed a powerful and mysterious entity known as the Nine-Tailed Fox, sealed within him by the Fourth Hokage to protect the village. The villagers feared and shunned Naruto because they saw him as the embodiment of the beast that had brought destruction in the past.\n",
    "Despite the villagers' disdain, Naruto persevered. He trained relentlessly under the guidance of his mentor, Kakashi Hatake, and formed close friendships with his teammates, Sakura Haruno and Sasuke Uchiha. Together, they formed Team 7, and their adventures began. Naruto faced formidable foes and encountered dangerous missions. He battled rogue ninjas, cunning villains, and even his own inner demons. Along the way, Naruto discovered the true meaning of friendship, loyalty, and sacrifice. He learned to embrace his flaws and turn them into strengths.\n",
    "As Naruto's skills grew, so did his determination to protect his friends and the village. He faced the organization known as Akatsuki, a group of powerful rogue ninjas who sought to harness the power of the Tailed Beasts. Naruto's connection to the Nine-Tailed Fox made him a target.In his pursuit to become stronger, Naruto embarked on a quest to master the ancient art of Sage Mode. With the guidance of the wise Toad Sage, Jiraiya, Naruto honed his skills and unlocked incredible new abilities. He faced pain, loss, and heartache but remained resolute in his mission to bring peace to the ninja world.\n",
    "Throughout his journey, Naruto encountered mentors who believed in him, such as the wise and compassionate Fifth Hokage, Tsunade. He also encountered rivals like Gaara, who transformed from a bitter enemy to a trusted friend. Naruto's unwavering spirit and genuine kindness touched the lives of those around him.\n",
    "As time went on, Naruto discovered his lineage as a descendant of the Uzumaki clan, known for their incredible life force and resilience. He unlocked the power of his heritage and developed his own signature move, the Rasengan. Naruto's skills and determination made him a force to be reckoned with.\n",
    "In the final showdown, Naruto faced off against his longtime friend and rival, Sasuke. The battle tested their bonds, and Naruto's unwavering faith in Sasuke's redemption ultimately prevailed. Together, they confronted the true mastermind behind the chaos, Madara Uchiha, and saved the world from destruction.\n",
    "Naruto's dream of becoming Hokage came true as he became the Seventh Hokage, leading the village with wisdom and compassion. He brought about an era of peace, unity, and understanding among the ninja clans. Naruto's legacy inspired future generations, and his story became a legend passed down through the ages.\n",
    "Naruto's journey taught us the importance of never giving up, embracing our unique qualities, and fighting for what we believe in. It showed us that friendship and love can conquer even the greatest challenges. Naruto Uzumaki, the knucklehead ninja, became a symbol of hope and an inspiration to all who encountered his story.\"\"\""
   ]
  },
  {
   "cell_type": "markdown",
   "metadata": {},
   "source": [
    "## 1. Import Pipeline and model"
   ]
  },
  {
   "cell_type": "code",
   "execution_count": 2,
   "metadata": {},
   "outputs": [],
   "source": [
    "from transformers import pipeline\n",
    "import textwrap"
   ]
  },
  {
   "cell_type": "markdown",
   "metadata": {},
   "source": [
    "## Summarization Function(BRAT by Facebook)"
   ]
  },
  {
   "cell_type": "code",
   "execution_count": 3,
   "metadata": {},
   "outputs": [],
   "source": [
    "def brat_summarizer(modelName: str, inputText: str) -> str:\n",
    "    brat_Text_Summarizer = pipeline(\"summarization\", model=modelName)\n",
    "    model_summary = brat_Text_Summarizer(inputText, max_length=130, min_length=30, do_sample=False)\n",
    "    return model_summary[0]['summary_text']"
   ]
  },
  {
   "cell_type": "code",
   "execution_count": 7,
   "metadata": {},
   "outputs": [
    {
     "name": "stdout",
     "output_type": "stream",
     "text": [
      "The lotte.com website is requires to build the customer behaviour analysis database to measures every visitor. The database also captures the number\n",
      "of orders, number of attempts, shopping cart conversion rate and size and customer demographic information. The SAS system is utilized to advance the\n",
      "advertising productivity examination.\n"
     ]
    }
   ],
   "source": [
    "model_name = \"facebook/bart-large-cnn\"\n",
    "summarizedText = brat_summarizer(model_name,ARTICLE)\n",
    "# Wrap the text to a specified width\n",
    "wrapped_text = textwrap.fill(summarizedText, width=150)\n",
    "print(wrapped_text)"
   ]
  },
  {
   "cell_type": "markdown",
   "metadata": {},
   "source": [
    "## Write the code to PDF"
   ]
  },
  {
   "cell_type": "code",
   "execution_count": 35,
   "metadata": {},
   "outputs": [],
   "source": [
    "from fpdf import FPDF\n",
    "def save_string_as_pdf(string_data, output_file_path):\n",
    "    # Create a PDF object\n",
    "    pdf = FPDF()\n",
    "    # Add a page\n",
    "    pdf.add_page()\n",
    "    # Set font and size\n",
    "    pdf.set_font(\"Arial\", size=12)\n",
    "    # Set the width of the cell to fit the full text\n",
    "    cell_width = pdf.w - 2 * pdf.l_margin\n",
    "\n",
    "    # Write the string data onto the PDF using MultiCell\n",
    "    pdf.multi_cell(cell_width, 10, txt=string_data)\n",
    "    # Save the PDF to a file\n",
    "    pdf.output(output_file_path)"
   ]
  },
  {
   "cell_type": "code",
   "execution_count": 37,
   "metadata": {},
   "outputs": [],
   "source": [
    "# Example usage\n",
    "data = summarizedText\n",
    "output_file = \"sample_output.pdf\"\n",
    "save_string_as_pdf(data, output_file)"
   ]
  },
  {
   "cell_type": "code",
   "execution_count": 36,
   "metadata": {},
   "outputs": [
    {
     "data": {
      "text/plain": [
       "'Naruto Uzumaki was an orphan with a dream of becoming the Hokage, the strongest and most respected ninja in the village. He battled rogue ninjas, cunning villains, and even his own inner demons. Along the way, he discovered the true meaning of friendship, loyalty, and sacrifice.'"
      ]
     },
     "execution_count": 36,
     "metadata": {},
     "output_type": "execute_result"
    }
   ],
   "source": [
    "summarizedText"
   ]
  }
 ],
 "metadata": {
  "kernelspec": {
   "display_name": "Python 3 (ipykernel)",
   "language": "python",
   "name": "python3"
  },
  "language_info": {
   "codemirror_mode": {
    "name": "ipython",
    "version": 3
   },
   "file_extension": ".py",
   "mimetype": "text/x-python",
   "name": "python",
   "nbconvert_exporter": "python",
   "pygments_lexer": "ipython3",
   "version": "3.11.1"
  }
 },
 "nbformat": 4,
 "nbformat_minor": 2
}
