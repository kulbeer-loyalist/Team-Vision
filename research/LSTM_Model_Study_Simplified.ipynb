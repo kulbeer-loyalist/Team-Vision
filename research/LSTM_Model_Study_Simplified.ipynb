{
 "cells": [
  {
   "attachments": {},
   "cell_type": "markdown",
   "metadata": {},
   "source": [
    "# Action Recognition - LSTM Model Implementation Study\n",
    "\n",
    "This script implements a LSTM model for ASL. It will be used for study purposes.\n",
    "\n",
    "Created by:\n",
    "- Marcus Vinicius da Silva Fernandes.\n",
    "- Yamini Sharma.\n",
    "\n",
    "2023-06-05.\n",
    "\n",
    "#### References:\n",
    "- https://www.youtube.com/watch?v=pG4sUNDOZFg\n",
    "- https://numpy.org/doc/stable/reference/generated/numpy.pad.html"
   ]
  },
  {
   "attachments": {},
   "cell_type": "markdown",
   "metadata": {},
   "source": [
    "### Importing necessary libraries"
   ]
  },
  {
   "cell_type": "code",
   "execution_count": 1,
   "metadata": {},
   "outputs": [],
   "source": [
    "import numpy as np\n",
    "import os\n",
    "import csv\n",
    "import tensorflow as tf\n",
    "from tensorflow.keras.models import Sequential\n",
    "from tensorflow.keras.layers import Dense, LSTM, Masking\n",
    "from tensorflow.keras.utils import to_categorical\n",
    "from tensorflow.keras.callbacks import TensorBoard\n",
    "from sklearn.model_selection import train_test_split\n",
    "from sklearn.metrics import multilabel_confusion_matrix, accuracy_score"
   ]
  },
  {
   "attachments": {},
   "cell_type": "markdown",
   "metadata": {},
   "source": [
    "### Accessing the landmarks"
   ]
  },
  {
   "attachments": {},
   "cell_type": "markdown",
   "metadata": {},
   "source": [
    "Set up the paths of folders to locate the landmarks and the list (csv file) that associates the name of the video to the corresponding word in English."
   ]
  },
  {
   "cell_type": "code",
   "execution_count": 2,
   "metadata": {},
   "outputs": [],
   "source": [
    "# Set up of the extracted landmarks save path\n",
    "landmarks_path = 'C:/Users/marcu/OneDrive/Documentos/Loyalist_College/AISC2006/ASL/extracted_landmarks_dummy_npy/'"
   ]
  },
  {
   "attachments": {},
   "cell_type": "markdown",
   "metadata": {},
   "source": [
    "Creation of the dictionary to associate the videos and the words."
   ]
  },
  {
   "cell_type": "code",
   "execution_count": 3,
   "metadata": {},
   "outputs": [],
   "source": [
    "# Opening the file dataset_analysis.csv to load the association of landmark ids to words and its number of frames\n",
    "id_dict = {}  # initializing the dictionary that will receive the data\n",
    "num_frames = []  # initializing the list that will contain the number of frames of each landmark\n",
    "with open(landmarks_path + \"dataset_analysis.csv\", \"r\") as csv_file:\n",
    "    csv_reader = csv.reader(csv_file)  # reading the data\n",
    "    next(csv_reader)  # to skip the header\n",
    "    for row in csv_reader:\n",
    "        id_dict['0' * (5 - len(row[0])) + row[0]] = row[1]  # storing the content into a dictionary\n",
    "        num_frames.append(int(row[7]))"
   ]
  },
  {
   "cell_type": "code",
   "execution_count": 4,
   "metadata": {},
   "outputs": [
    {
     "name": "stdout",
     "output_type": "stream",
     "text": [
      "Maximum number of frames of all the landmarks = 181\n",
      "Minimum number of frames of all the landmarks = 26\n"
     ]
    }
   ],
   "source": [
    "# Maximum number of frames of all the landmarks\n",
    "max_num_frames = max(num_frames)\n",
    "print('Maximum number of frames of all the landmarks =', max_num_frames)\n",
    "\n",
    "# Minimum number of frames of all the landmarks\n",
    "min_num_frames = min(num_frames)\n",
    "print('Minimum number of frames of all the landmarks =', min_num_frames)"
   ]
  },
  {
   "attachments": {},
   "cell_type": "markdown",
   "metadata": {},
   "source": [
    "### Shaping the data for the LSTM model"
   ]
  },
  {
   "attachments": {},
   "cell_type": "markdown",
   "metadata": {},
   "source": [
    "Desired number of frames\n",
    "- each video will be reshaped to have the number of rows (or frames) equal to the desired number of frames defined below."
   ]
  },
  {
   "cell_type": "code",
   "execution_count": 5,
   "metadata": {},
   "outputs": [],
   "source": [
    "NUM_FRAMES = 30"
   ]
  },
  {
   "attachments": {},
   "cell_type": "markdown",
   "metadata": {},
   "source": [
    "Creation of the X array\n",
    "\n",
    "- Time-based sampling: we will reduce the dimension of the array to the desired NUM_FRAMES.\n",
    "- Padding the videos: we will add rows with zeros to increase the dimension of the array to the desired NUM_FRAMES.\n",
    "- No change: the array already has the desired NUM_FRAMES."
   ]
  },
  {
   "cell_type": "code",
   "execution_count": 6,
   "metadata": {},
   "outputs": [
    {
     "name": "stdout",
     "output_type": "stream",
     "text": [
      "(131, 30, 1662)\n"
     ]
    }
   ],
   "source": [
    "videos, labels = [], []\n",
    "\n",
    "for item in os.listdir(landmarks_path):\n",
    "    if item.endswith('.npy'):  # working with npy files only\n",
    "        data = np.load(os.path.join(landmarks_path, item))  # loading the numpy array into memory\n",
    "        if data.shape[0] > NUM_FRAMES:  # time-based sampling\n",
    "            indices = np.arange(0, data.shape[0], data.shape[0] // NUM_FRAMES)[:30]\n",
    "            data = data[indices]\n",
    "            videos.append(data)\n",
    "        elif data.shape[0] < NUM_FRAMES:  # padding the videos\n",
    "            data = np.pad(data, ((0, NUM_FRAMES - data.shape[0]), (0, 0)), mode='constant')\n",
    "            videos.append(data)\n",
    "        else:  # no change\n",
    "            videos.append(data)\n",
    "        labels.append(id_dict[item.split('.npy')[0]])\n",
    "\n",
    "X = np.array(videos)\n",
    "print(X.shape)"
   ]
  },
  {
   "attachments": {},
   "cell_type": "markdown",
   "metadata": {},
   "source": [
    "Creation of the Y array"
   ]
  },
  {
   "cell_type": "code",
   "execution_count": 7,
   "metadata": {},
   "outputs": [
    {
     "name": "stdout",
     "output_type": "stream",
     "text": [
      "(131, 25)\n"
     ]
    }
   ],
   "source": [
    "labels_unique = np.unique(labels)\n",
    "\n",
    "labels_encoded = []\n",
    "for i in labels:\n",
    "    labels_encoded = np.append(labels_encoded, np.where(labels_unique == i))\n",
    "\n",
    "Y = to_categorical(labels_encoded).astype(int)\n",
    "print(Y.shape)"
   ]
  },
  {
   "attachments": {},
   "cell_type": "markdown",
   "metadata": {},
   "source": [
    "Splitting the data"
   ]
  },
  {
   "cell_type": "code",
   "execution_count": 8,
   "metadata": {},
   "outputs": [],
   "source": [
    "X_train, X_test, y_train, y_test = train_test_split(X, Y, test_size=0.20)"
   ]
  },
  {
   "attachments": {},
   "cell_type": "markdown",
   "metadata": {},
   "source": [
    "### LSTM model"
   ]
  },
  {
   "cell_type": "markdown",
   "metadata": {},
   "source": [
    "Model build"
   ]
  },
  {
   "cell_type": "code",
   "execution_count": 9,
   "metadata": {},
   "outputs": [
    {
     "name": "stdout",
     "output_type": "stream",
     "text": [
      "WARNING:tensorflow:Layer lstm will not use cuDNN kernels since it doesn't meet the criteria. It will use a generic GPU kernel as fallback when running on GPU.\n"
     ]
    }
   ],
   "source": [
    "# Second try - masking layer added\n",
    "model = Sequential()\n",
    "model.add(Masking(mask_value=0, input_shape=(X.shape[1], X.shape[2])))  # Input shape with variable-length sequences\n",
    "model.add(LSTM(64, activation='sigmoid'))\n",
    "model.add(Dense(y_train.shape[1], activation='softmax'))"
   ]
  },
  {
   "cell_type": "markdown",
   "metadata": {},
   "source": [
    "Model compile"
   ]
  },
  {
   "cell_type": "code",
   "execution_count": 10,
   "metadata": {},
   "outputs": [],
   "source": [
    "log_dir = os.path.join('Logs')\n",
    "tb_callback = TensorBoard(log_dir=log_dir)\n",
    "\n",
    "optimizer = tf.keras.optimizers.legacy.Adam(learning_rate=0.001)\n",
    "model.compile(optimizer=optimizer, loss='categorical_crossentropy', metrics=['categorical_accuracy'])"
   ]
  },
  {
   "cell_type": "markdown",
   "metadata": {},
   "source": [
    "Model fitment"
   ]
  },
  {
   "cell_type": "code",
   "execution_count": 11,
   "metadata": {},
   "outputs": [
    {
     "name": "stdout",
     "output_type": "stream",
     "text": [
      "Epoch 1/200\n"
     ]
    },
    {
     "name": "stderr",
     "output_type": "stream",
     "text": [
      "2023-07-10 09:15:29.288567: W tensorflow/tsl/platform/profile_utils/cpu_utils.cc:128] Failed to get CPU frequency: 0 Hz\n"
     ]
    },
    {
     "name": "stdout",
     "output_type": "stream",
     "text": [
      "4/4 [==============================] - 7s 1s/step - loss: 3.2864 - categorical_accuracy: 0.0192\n",
      "Epoch 2/200\n",
      "4/4 [==============================] - 6s 1s/step - loss: 3.1637 - categorical_accuracy: 0.0865\n",
      "Epoch 3/200\n",
      "4/4 [==============================] - 5s 1s/step - loss: 3.1378 - categorical_accuracy: 0.0865\n",
      "Epoch 4/200\n",
      "4/4 [==============================] - 6s 1s/step - loss: 3.1297 - categorical_accuracy: 0.0769\n",
      "Epoch 5/200\n",
      "4/4 [==============================] - 6s 1s/step - loss: 3.1164 - categorical_accuracy: 0.0769\n",
      "Epoch 6/200\n",
      "4/4 [==============================] - 6s 1s/step - loss: 3.1081 - categorical_accuracy: 0.1635\n",
      "Epoch 7/200\n",
      "4/4 [==============================] - 6s 1s/step - loss: 3.0977 - categorical_accuracy: 0.1154\n",
      "Epoch 8/200\n",
      "4/4 [==============================] - 6s 1s/step - loss: 3.0946 - categorical_accuracy: 0.1058\n",
      "Epoch 9/200\n",
      "4/4 [==============================] - 6s 2s/step - loss: 3.0799 - categorical_accuracy: 0.1058\n",
      "Epoch 10/200\n",
      "4/4 [==============================] - 6s 1s/step - loss: 3.0836 - categorical_accuracy: 0.1154\n",
      "Epoch 11/200\n",
      "4/4 [==============================] - 6s 1s/step - loss: 3.0747 - categorical_accuracy: 0.1154\n",
      "Epoch 12/200\n",
      "4/4 [==============================] - 5s 1s/step - loss: 3.0575 - categorical_accuracy: 0.0769\n",
      "Epoch 13/200\n",
      "4/4 [==============================] - 5s 1s/step - loss: 3.0498 - categorical_accuracy: 0.0865\n",
      "Epoch 14/200\n",
      "4/4 [==============================] - 5s 1s/step - loss: 3.0538 - categorical_accuracy: 0.1346\n",
      "Epoch 15/200\n",
      "4/4 [==============================] - 6s 1s/step - loss: 3.0343 - categorical_accuracy: 0.1346\n",
      "Epoch 16/200\n",
      "4/4 [==============================] - 6s 1s/step - loss: 3.0219 - categorical_accuracy: 0.1346\n",
      "Epoch 17/200\n",
      "4/4 [==============================] - 6s 1s/step - loss: 3.0192 - categorical_accuracy: 0.0865\n",
      "Epoch 18/200\n",
      "4/4 [==============================] - 5s 1s/step - loss: 3.0183 - categorical_accuracy: 0.1154\n",
      "Epoch 19/200\n",
      "4/4 [==============================] - 5s 1s/step - loss: 3.0010 - categorical_accuracy: 0.1346\n",
      "Epoch 20/200\n",
      "4/4 [==============================] - 5s 1s/step - loss: 2.9895 - categorical_accuracy: 0.1250\n",
      "Epoch 21/200\n",
      "4/4 [==============================] - 5s 1s/step - loss: 2.9873 - categorical_accuracy: 0.1635\n",
      "Epoch 22/200\n",
      "4/4 [==============================] - 5s 1s/step - loss: 2.9708 - categorical_accuracy: 0.1731\n",
      "Epoch 23/200\n",
      "4/4 [==============================] - 5s 1s/step - loss: 2.9503 - categorical_accuracy: 0.1635\n",
      "Epoch 24/200\n",
      "4/4 [==============================] - 6s 1s/step - loss: 2.9626 - categorical_accuracy: 0.1346\n",
      "Epoch 25/200\n",
      "4/4 [==============================] - 5s 1s/step - loss: 2.9524 - categorical_accuracy: 0.1635\n",
      "Epoch 26/200\n",
      "4/4 [==============================] - 6s 1s/step - loss: 2.9347 - categorical_accuracy: 0.1731\n",
      "Epoch 27/200\n",
      "4/4 [==============================] - 6s 1s/step - loss: 2.9277 - categorical_accuracy: 0.1442\n",
      "Epoch 28/200\n",
      "4/4 [==============================] - 6s 1s/step - loss: 2.9132 - categorical_accuracy: 0.1827\n",
      "Epoch 29/200\n",
      "4/4 [==============================] - 5s 1s/step - loss: 2.9097 - categorical_accuracy: 0.1731\n",
      "Epoch 30/200\n",
      "4/4 [==============================] - 6s 2s/step - loss: 2.8908 - categorical_accuracy: 0.2212\n",
      "Epoch 31/200\n",
      "4/4 [==============================] - 5s 1s/step - loss: 2.8791 - categorical_accuracy: 0.2019\n",
      "Epoch 32/200\n",
      "4/4 [==============================] - 5s 1s/step - loss: 2.8861 - categorical_accuracy: 0.2019\n",
      "Epoch 33/200\n",
      "4/4 [==============================] - 6s 1s/step - loss: 2.8667 - categorical_accuracy: 0.1827\n",
      "Epoch 34/200\n",
      "4/4 [==============================] - 6s 1s/step - loss: 2.8511 - categorical_accuracy: 0.2019\n",
      "Epoch 35/200\n",
      "4/4 [==============================] - 6s 1s/step - loss: 2.8491 - categorical_accuracy: 0.2115\n",
      "Epoch 36/200\n",
      "4/4 [==============================] - 6s 1s/step - loss: 2.8332 - categorical_accuracy: 0.2019\n",
      "Epoch 37/200\n",
      "4/4 [==============================] - 6s 1s/step - loss: 2.8210 - categorical_accuracy: 0.2019\n",
      "Epoch 38/200\n",
      "4/4 [==============================] - 6s 1s/step - loss: 2.8081 - categorical_accuracy: 0.2115\n",
      "Epoch 39/200\n",
      "4/4 [==============================] - 6s 1s/step - loss: 2.7911 - categorical_accuracy: 0.2308\n",
      "Epoch 40/200\n",
      "4/4 [==============================] - 5s 1s/step - loss: 2.7715 - categorical_accuracy: 0.2404\n",
      "Epoch 41/200\n",
      "4/4 [==============================] - 5s 1s/step - loss: 2.7716 - categorical_accuracy: 0.2500\n",
      "Epoch 42/200\n",
      "4/4 [==============================] - 6s 1s/step - loss: 2.7727 - categorical_accuracy: 0.2308\n",
      "Epoch 43/200\n",
      "4/4 [==============================] - 6s 1s/step - loss: 2.7578 - categorical_accuracy: 0.2308\n",
      "Epoch 44/200\n",
      "4/4 [==============================] - 5s 1s/step - loss: 2.7516 - categorical_accuracy: 0.2404\n",
      "Epoch 45/200\n",
      "4/4 [==============================] - 6s 1s/step - loss: 2.7452 - categorical_accuracy: 0.2115\n",
      "Epoch 46/200\n",
      "4/4 [==============================] - 6s 1s/step - loss: 2.7304 - categorical_accuracy: 0.2115\n",
      "Epoch 47/200\n",
      "4/4 [==============================] - 6s 1s/step - loss: 2.7200 - categorical_accuracy: 0.2692\n",
      "Epoch 48/200\n",
      "4/4 [==============================] - 6s 1s/step - loss: 2.7149 - categorical_accuracy: 0.2596\n",
      "Epoch 49/200\n",
      "4/4 [==============================] - 6s 1s/step - loss: 2.7081 - categorical_accuracy: 0.2788\n",
      "Epoch 50/200\n",
      "4/4 [==============================] - 6s 1s/step - loss: 2.6825 - categorical_accuracy: 0.2981\n",
      "Epoch 51/200\n",
      "4/4 [==============================] - 6s 1s/step - loss: 2.6747 - categorical_accuracy: 0.2885\n",
      "Epoch 52/200\n",
      "4/4 [==============================] - 6s 1s/step - loss: 2.6695 - categorical_accuracy: 0.2692\n",
      "Epoch 53/200\n",
      "4/4 [==============================] - 6s 1s/step - loss: 2.6593 - categorical_accuracy: 0.2885\n",
      "Epoch 54/200\n",
      "4/4 [==============================] - 6s 1s/step - loss: 2.6369 - categorical_accuracy: 0.2981\n",
      "Epoch 55/200\n",
      "4/4 [==============================] - 6s 1s/step - loss: 2.6242 - categorical_accuracy: 0.2981\n",
      "Epoch 56/200\n",
      "4/4 [==============================] - 6s 1s/step - loss: 2.6082 - categorical_accuracy: 0.2788\n",
      "Epoch 57/200\n",
      "4/4 [==============================] - 6s 1s/step - loss: 2.6173 - categorical_accuracy: 0.2885\n",
      "Epoch 58/200\n",
      "4/4 [==============================] - 5s 1s/step - loss: 2.5945 - categorical_accuracy: 0.3365\n",
      "Epoch 59/200\n",
      "4/4 [==============================] - 6s 1s/step - loss: 2.5871 - categorical_accuracy: 0.3365\n",
      "Epoch 60/200\n",
      "4/4 [==============================] - 5s 1s/step - loss: 2.5874 - categorical_accuracy: 0.3462\n",
      "Epoch 61/200\n",
      "4/4 [==============================] - 6s 1s/step - loss: 2.5899 - categorical_accuracy: 0.3365\n",
      "Epoch 62/200\n",
      "4/4 [==============================] - 6s 1s/step - loss: 2.5553 - categorical_accuracy: 0.3462\n",
      "Epoch 63/200\n",
      "4/4 [==============================] - 6s 1s/step - loss: 2.5583 - categorical_accuracy: 0.3750\n",
      "Epoch 64/200\n",
      "4/4 [==============================] - 6s 1s/step - loss: 2.5595 - categorical_accuracy: 0.3462\n",
      "Epoch 65/200\n",
      "4/4 [==============================] - 6s 2s/step - loss: 2.5411 - categorical_accuracy: 0.2981\n",
      "Epoch 66/200\n",
      "4/4 [==============================] - 6s 1s/step - loss: 2.5266 - categorical_accuracy: 0.3365\n",
      "Epoch 67/200\n",
      "4/4 [==============================] - 6s 2s/step - loss: 2.5180 - categorical_accuracy: 0.3462\n",
      "Epoch 68/200\n",
      "4/4 [==============================] - 6s 2s/step - loss: 2.5049 - categorical_accuracy: 0.3173\n",
      "Epoch 69/200\n",
      "4/4 [==============================] - 6s 1s/step - loss: 2.5006 - categorical_accuracy: 0.3365\n",
      "Epoch 70/200\n",
      "4/4 [==============================] - 6s 1s/step - loss: 2.4998 - categorical_accuracy: 0.3269\n",
      "Epoch 71/200\n",
      "4/4 [==============================] - 6s 1s/step - loss: 2.4907 - categorical_accuracy: 0.3365\n",
      "Epoch 72/200\n",
      "4/4 [==============================] - 6s 1s/step - loss: 2.4736 - categorical_accuracy: 0.3654\n",
      "Epoch 73/200\n",
      "4/4 [==============================] - 6s 1s/step - loss: 2.4711 - categorical_accuracy: 0.3558\n",
      "Epoch 74/200\n",
      "4/4 [==============================] - 6s 1s/step - loss: 2.4532 - categorical_accuracy: 0.3365\n",
      "Epoch 75/200\n",
      "4/4 [==============================] - 6s 1s/step - loss: 2.4483 - categorical_accuracy: 0.3558\n",
      "Epoch 76/200\n",
      "4/4 [==============================] - 6s 1s/step - loss: 2.4344 - categorical_accuracy: 0.3750\n",
      "Epoch 77/200\n",
      "4/4 [==============================] - 6s 1s/step - loss: 2.4332 - categorical_accuracy: 0.3462\n",
      "Epoch 78/200\n",
      "4/4 [==============================] - 6s 1s/step - loss: 2.4291 - categorical_accuracy: 0.3846\n",
      "Epoch 79/200\n",
      "4/4 [==============================] - 5s 1s/step - loss: 2.4260 - categorical_accuracy: 0.3750\n",
      "Epoch 80/200\n",
      "4/4 [==============================] - 6s 1s/step - loss: 2.4111 - categorical_accuracy: 0.3365\n",
      "Epoch 81/200\n",
      "4/4 [==============================] - 6s 1s/step - loss: 2.3960 - categorical_accuracy: 0.3558\n",
      "Epoch 82/200\n",
      "4/4 [==============================] - 6s 1s/step - loss: 2.4108 - categorical_accuracy: 0.3462\n",
      "Epoch 83/200\n",
      "4/4 [==============================] - 5s 1s/step - loss: 2.3831 - categorical_accuracy: 0.3462\n",
      "Epoch 84/200\n",
      "4/4 [==============================] - 6s 1s/step - loss: 2.3794 - categorical_accuracy: 0.3077\n",
      "Epoch 85/200\n",
      "4/4 [==============================] - 6s 1s/step - loss: 2.3656 - categorical_accuracy: 0.3077\n",
      "Epoch 86/200\n",
      "4/4 [==============================] - 5s 1s/step - loss: 2.3650 - categorical_accuracy: 0.3462\n",
      "Epoch 87/200\n",
      "4/4 [==============================] - 6s 1s/step - loss: 2.3558 - categorical_accuracy: 0.3654\n",
      "Epoch 88/200\n",
      "4/4 [==============================] - 5s 1s/step - loss: 2.3503 - categorical_accuracy: 0.3654\n",
      "Epoch 89/200\n",
      "4/4 [==============================] - 6s 1s/step - loss: 2.3320 - categorical_accuracy: 0.3558\n",
      "Epoch 90/200\n",
      "4/4 [==============================] - 6s 1s/step - loss: 2.3253 - categorical_accuracy: 0.3942\n",
      "Epoch 91/200\n",
      "4/4 [==============================] - 6s 1s/step - loss: 2.3362 - categorical_accuracy: 0.3462\n",
      "Epoch 92/200\n",
      "4/4 [==============================] - 6s 1s/step - loss: 2.3222 - categorical_accuracy: 0.3654\n",
      "Epoch 93/200\n",
      "4/4 [==============================] - 6s 1s/step - loss: 2.3036 - categorical_accuracy: 0.3846\n",
      "Epoch 94/200\n",
      "4/4 [==============================] - 6s 1s/step - loss: 2.3107 - categorical_accuracy: 0.3846\n",
      "Epoch 95/200\n",
      "4/4 [==============================] - 6s 1s/step - loss: 2.3158 - categorical_accuracy: 0.4038\n",
      "Epoch 96/200\n",
      "4/4 [==============================] - 6s 2s/step - loss: 2.2978 - categorical_accuracy: 0.4038\n",
      "Epoch 97/200\n",
      "4/4 [==============================] - 6s 1s/step - loss: 2.2904 - categorical_accuracy: 0.3750\n",
      "Epoch 98/200\n",
      "4/4 [==============================] - 5s 1s/step - loss: 2.2739 - categorical_accuracy: 0.3269\n",
      "Epoch 99/200\n",
      "4/4 [==============================] - 6s 1s/step - loss: 2.2615 - categorical_accuracy: 0.3942\n",
      "Epoch 100/200\n",
      "4/4 [==============================] - 5s 1s/step - loss: 2.2656 - categorical_accuracy: 0.4231\n",
      "Epoch 101/200\n",
      "4/4 [==============================] - 5s 1s/step - loss: 2.2452 - categorical_accuracy: 0.4038\n",
      "Epoch 102/200\n",
      "4/4 [==============================] - 6s 1s/step - loss: 2.2418 - categorical_accuracy: 0.4038\n",
      "Epoch 103/200\n",
      "4/4 [==============================] - 5s 1s/step - loss: 2.2312 - categorical_accuracy: 0.3750\n",
      "Epoch 104/200\n",
      "4/4 [==============================] - 5s 1s/step - loss: 2.2227 - categorical_accuracy: 0.4519\n",
      "Epoch 105/200\n",
      "4/4 [==============================] - 6s 1s/step - loss: 2.2177 - categorical_accuracy: 0.4038\n",
      "Epoch 106/200\n",
      "4/4 [==============================] - 5s 1s/step - loss: 2.2239 - categorical_accuracy: 0.3846\n",
      "Epoch 107/200\n",
      "4/4 [==============================] - 6s 2s/step - loss: 2.2067 - categorical_accuracy: 0.4231\n",
      "Epoch 108/200\n",
      "4/4 [==============================] - 5s 1s/step - loss: 2.2202 - categorical_accuracy: 0.4135\n",
      "Epoch 109/200\n",
      "4/4 [==============================] - 5s 1s/step - loss: 2.2047 - categorical_accuracy: 0.4038\n",
      "Epoch 110/200\n",
      "4/4 [==============================] - 5s 1s/step - loss: 2.1925 - categorical_accuracy: 0.3846\n",
      "Epoch 111/200\n",
      "4/4 [==============================] - 5s 1s/step - loss: 2.2003 - categorical_accuracy: 0.4327\n",
      "Epoch 112/200\n",
      "4/4 [==============================] - 5s 1s/step - loss: 2.1786 - categorical_accuracy: 0.4327\n",
      "Epoch 113/200\n",
      "4/4 [==============================] - 5s 1s/step - loss: 2.1969 - categorical_accuracy: 0.3942\n",
      "Epoch 114/200\n",
      "4/4 [==============================] - 6s 1s/step - loss: 2.1754 - categorical_accuracy: 0.4615\n",
      "Epoch 115/200\n",
      "4/4 [==============================] - 5s 1s/step - loss: 2.1558 - categorical_accuracy: 0.4327\n",
      "Epoch 116/200\n",
      "4/4 [==============================] - 6s 1s/step - loss: 2.1652 - categorical_accuracy: 0.4231\n",
      "Epoch 117/200\n",
      "4/4 [==============================] - 5s 1s/step - loss: 2.1451 - categorical_accuracy: 0.3846\n",
      "Epoch 118/200\n",
      "4/4 [==============================] - 5s 1s/step - loss: 2.1386 - categorical_accuracy: 0.4135\n",
      "Epoch 119/200\n",
      "4/4 [==============================] - 6s 1s/step - loss: 2.1425 - categorical_accuracy: 0.4135\n",
      "Epoch 120/200\n",
      "4/4 [==============================] - 6s 1s/step - loss: 2.1337 - categorical_accuracy: 0.4712\n",
      "Epoch 121/200\n",
      "4/4 [==============================] - 6s 1s/step - loss: 2.1198 - categorical_accuracy: 0.4423\n",
      "Epoch 122/200\n",
      "4/4 [==============================] - 6s 1s/step - loss: 2.1221 - categorical_accuracy: 0.4135\n",
      "Epoch 123/200\n",
      "4/4 [==============================] - 6s 1s/step - loss: 2.1063 - categorical_accuracy: 0.4519\n",
      "Epoch 124/200\n",
      "4/4 [==============================] - 6s 2s/step - loss: 2.0830 - categorical_accuracy: 0.4615\n",
      "Epoch 125/200\n",
      "4/4 [==============================] - 6s 1s/step - loss: 2.1050 - categorical_accuracy: 0.4423\n",
      "Epoch 126/200\n",
      "4/4 [==============================] - 6s 1s/step - loss: 2.0869 - categorical_accuracy: 0.4038\n",
      "Epoch 127/200\n",
      "4/4 [==============================] - 6s 1s/step - loss: 2.0839 - categorical_accuracy: 0.4231\n",
      "Epoch 128/200\n",
      "4/4 [==============================] - 6s 2s/step - loss: 2.0562 - categorical_accuracy: 0.4808\n",
      "Epoch 129/200\n",
      "4/4 [==============================] - 6s 2s/step - loss: 2.0828 - categorical_accuracy: 0.4135\n",
      "Epoch 130/200\n",
      "4/4 [==============================] - 6s 1s/step - loss: 2.0770 - categorical_accuracy: 0.3846\n",
      "Epoch 131/200\n",
      "4/4 [==============================] - 6s 1s/step - loss: 2.0686 - categorical_accuracy: 0.4135\n",
      "Epoch 132/200\n",
      "4/4 [==============================] - 5s 1s/step - loss: 2.0416 - categorical_accuracy: 0.4615\n",
      "Epoch 133/200\n",
      "4/4 [==============================] - 5s 1s/step - loss: 2.0460 - categorical_accuracy: 0.5000\n",
      "Epoch 134/200\n",
      "4/4 [==============================] - 6s 1s/step - loss: 2.0409 - categorical_accuracy: 0.4615\n",
      "Epoch 135/200\n",
      "4/4 [==============================] - 6s 2s/step - loss: 2.0228 - categorical_accuracy: 0.4904\n",
      "Epoch 136/200\n",
      "4/4 [==============================] - 6s 1s/step - loss: 2.0297 - categorical_accuracy: 0.3942\n",
      "Epoch 137/200\n",
      "4/4 [==============================] - 5s 1s/step - loss: 2.0133 - categorical_accuracy: 0.4135\n",
      "Epoch 138/200\n",
      "4/4 [==============================] - 6s 2s/step - loss: 1.9971 - categorical_accuracy: 0.4615\n",
      "Epoch 139/200\n",
      "4/4 [==============================] - 6s 1s/step - loss: 2.0000 - categorical_accuracy: 0.4615\n",
      "Epoch 140/200\n",
      "4/4 [==============================] - 6s 1s/step - loss: 1.9940 - categorical_accuracy: 0.4808\n",
      "Epoch 141/200\n",
      "4/4 [==============================] - 6s 1s/step - loss: 1.9891 - categorical_accuracy: 0.4808\n",
      "Epoch 142/200\n",
      "4/4 [==============================] - 5s 1s/step - loss: 1.9966 - categorical_accuracy: 0.4904\n",
      "Epoch 143/200\n",
      "4/4 [==============================] - 6s 1s/step - loss: 1.9693 - categorical_accuracy: 0.5000\n",
      "Epoch 144/200\n",
      "4/4 [==============================] - 5s 1s/step - loss: 1.9775 - categorical_accuracy: 0.5000\n",
      "Epoch 145/200\n",
      "4/4 [==============================] - 5s 1s/step - loss: 1.9828 - categorical_accuracy: 0.5192\n",
      "Epoch 146/200\n",
      "4/4 [==============================] - 5s 1s/step - loss: 1.9805 - categorical_accuracy: 0.4615\n",
      "Epoch 147/200\n",
      "4/4 [==============================] - 5s 1s/step - loss: 1.9688 - categorical_accuracy: 0.4423\n",
      "Epoch 148/200\n",
      "4/4 [==============================] - 5s 1s/step - loss: 1.9717 - categorical_accuracy: 0.4808\n",
      "Epoch 149/200\n",
      "4/4 [==============================] - 5s 1s/step - loss: 1.9646 - categorical_accuracy: 0.4904\n",
      "Epoch 150/200\n",
      "4/4 [==============================] - 5s 1s/step - loss: 1.9592 - categorical_accuracy: 0.4904\n",
      "Epoch 151/200\n",
      "4/4 [==============================] - 5s 1s/step - loss: 1.9254 - categorical_accuracy: 0.5096\n",
      "Epoch 152/200\n",
      "4/4 [==============================] - 5s 1s/step - loss: 1.9434 - categorical_accuracy: 0.5288\n",
      "Epoch 153/200\n",
      "4/4 [==============================] - 5s 1s/step - loss: 1.9039 - categorical_accuracy: 0.4904\n",
      "Epoch 154/200\n",
      "4/4 [==============================] - 5s 1s/step - loss: 1.9249 - categorical_accuracy: 0.4423\n",
      "Epoch 155/200\n",
      "4/4 [==============================] - 6s 1s/step - loss: 1.8964 - categorical_accuracy: 0.5288\n",
      "Epoch 156/200\n",
      "4/4 [==============================] - 6s 1s/step - loss: 1.9092 - categorical_accuracy: 0.4712\n",
      "Epoch 157/200\n",
      "4/4 [==============================] - 5s 1s/step - loss: 1.9098 - categorical_accuracy: 0.5288\n",
      "Epoch 158/200\n",
      "4/4 [==============================] - 5s 1s/step - loss: 1.8712 - categorical_accuracy: 0.5000\n",
      "Epoch 159/200\n",
      "4/4 [==============================] - 5s 1s/step - loss: 1.8682 - categorical_accuracy: 0.5481\n",
      "Epoch 160/200\n",
      "4/4 [==============================] - 5s 1s/step - loss: 1.8611 - categorical_accuracy: 0.5192\n",
      "Epoch 161/200\n",
      "4/4 [==============================] - 5s 1s/step - loss: 1.8531 - categorical_accuracy: 0.5192\n",
      "Epoch 162/200\n",
      "4/4 [==============================] - 5s 1s/step - loss: 1.8471 - categorical_accuracy: 0.5288\n",
      "Epoch 163/200\n",
      "4/4 [==============================] - 5s 1s/step - loss: 1.8673 - categorical_accuracy: 0.4519\n",
      "Epoch 164/200\n",
      "4/4 [==============================] - 5s 1s/step - loss: 1.9241 - categorical_accuracy: 0.4519\n",
      "Epoch 165/200\n",
      "4/4 [==============================] - 5s 1s/step - loss: 1.8615 - categorical_accuracy: 0.4808\n",
      "Epoch 166/200\n",
      "4/4 [==============================] - 5s 1s/step - loss: 1.8312 - categorical_accuracy: 0.4904\n",
      "Epoch 167/200\n",
      "4/4 [==============================] - 5s 1s/step - loss: 1.8173 - categorical_accuracy: 0.5096\n",
      "Epoch 168/200\n",
      "4/4 [==============================] - 5s 1s/step - loss: 1.8120 - categorical_accuracy: 0.5288\n",
      "Epoch 169/200\n",
      "4/4 [==============================] - 5s 1s/step - loss: 1.7975 - categorical_accuracy: 0.5481\n",
      "Epoch 170/200\n",
      "4/4 [==============================] - 5s 1s/step - loss: 1.8005 - categorical_accuracy: 0.5192\n",
      "Epoch 171/200\n",
      "4/4 [==============================] - 5s 1s/step - loss: 1.7939 - categorical_accuracy: 0.5577\n",
      "Epoch 172/200\n",
      "4/4 [==============================] - 5s 1s/step - loss: 1.7585 - categorical_accuracy: 0.5481\n",
      "Epoch 173/200\n",
      "4/4 [==============================] - 5s 1s/step - loss: 1.7873 - categorical_accuracy: 0.5096\n",
      "Epoch 174/200\n",
      "4/4 [==============================] - 5s 1s/step - loss: 1.7511 - categorical_accuracy: 0.5288\n",
      "Epoch 175/200\n",
      "4/4 [==============================] - 5s 1s/step - loss: 1.7467 - categorical_accuracy: 0.5577\n",
      "Epoch 176/200\n",
      "4/4 [==============================] - 5s 1s/step - loss: 1.7476 - categorical_accuracy: 0.5481\n",
      "Epoch 177/200\n",
      "4/4 [==============================] - 5s 1s/step - loss: 1.7368 - categorical_accuracy: 0.5385\n",
      "Epoch 178/200\n",
      "4/4 [==============================] - 5s 1s/step - loss: 1.7327 - categorical_accuracy: 0.5385\n",
      "Epoch 179/200\n",
      "4/4 [==============================] - 5s 1s/step - loss: 1.7267 - categorical_accuracy: 0.5577\n",
      "Epoch 180/200\n",
      "4/4 [==============================] - 5s 1s/step - loss: 1.7127 - categorical_accuracy: 0.5673\n",
      "Epoch 181/200\n",
      "4/4 [==============================] - 5s 1s/step - loss: 1.7098 - categorical_accuracy: 0.5769\n",
      "Epoch 182/200\n",
      "4/4 [==============================] - 5s 1s/step - loss: 1.6997 - categorical_accuracy: 0.5577\n",
      "Epoch 183/200\n",
      "4/4 [==============================] - 5s 1s/step - loss: 1.7109 - categorical_accuracy: 0.5577\n",
      "Epoch 184/200\n",
      "4/4 [==============================] - 5s 1s/step - loss: 1.6970 - categorical_accuracy: 0.5865\n",
      "Epoch 185/200\n",
      "4/4 [==============================] - 5s 1s/step - loss: 1.6922 - categorical_accuracy: 0.5769\n",
      "Epoch 186/200\n",
      "4/4 [==============================] - 5s 1s/step - loss: 1.6733 - categorical_accuracy: 0.5673\n",
      "Epoch 187/200\n",
      "4/4 [==============================] - 5s 1s/step - loss: 1.6713 - categorical_accuracy: 0.5577\n",
      "Epoch 188/200\n",
      "4/4 [==============================] - 5s 1s/step - loss: 1.6617 - categorical_accuracy: 0.5865\n",
      "Epoch 189/200\n",
      "4/4 [==============================] - 5s 1s/step - loss: 1.7049 - categorical_accuracy: 0.5385\n",
      "Epoch 190/200\n",
      "4/4 [==============================] - 5s 1s/step - loss: 1.6484 - categorical_accuracy: 0.5385\n",
      "Epoch 191/200\n",
      "4/4 [==============================] - 5s 1s/step - loss: 1.6776 - categorical_accuracy: 0.5192\n",
      "Epoch 192/200\n",
      "4/4 [==============================] - 5s 1s/step - loss: 1.6775 - categorical_accuracy: 0.5577\n",
      "Epoch 193/200\n",
      "4/4 [==============================] - 5s 1s/step - loss: 1.7127 - categorical_accuracy: 0.5288\n",
      "Epoch 194/200\n",
      "4/4 [==============================] - 5s 1s/step - loss: 1.6938 - categorical_accuracy: 0.5192\n",
      "Epoch 195/200\n",
      "4/4 [==============================] - 5s 1s/step - loss: 1.7128 - categorical_accuracy: 0.5481\n",
      "Epoch 196/200\n",
      "4/4 [==============================] - 5s 1s/step - loss: 1.6748 - categorical_accuracy: 0.4904\n",
      "Epoch 197/200\n",
      "4/4 [==============================] - 5s 1s/step - loss: 1.6786 - categorical_accuracy: 0.5577\n",
      "Epoch 198/200\n",
      "4/4 [==============================] - 5s 1s/step - loss: 1.6272 - categorical_accuracy: 0.5577\n",
      "Epoch 199/200\n",
      "4/4 [==============================] - 5s 1s/step - loss: 1.6058 - categorical_accuracy: 0.5673\n",
      "Epoch 200/200\n",
      "4/4 [==============================] - 5s 1s/step - loss: 1.5968 - categorical_accuracy: 0.5865\n"
     ]
    },
    {
     "data": {
      "text/plain": [
       "<keras.callbacks.History at 0x298e3dc60>"
      ]
     },
     "execution_count": 11,
     "metadata": {},
     "output_type": "execute_result"
    }
   ],
   "source": [
    "model.fit(X_train, y_train, epochs=200, callbacks=[tb_callback])"
   ]
  },
  {
   "cell_type": "code",
   "execution_count": 12,
   "metadata": {},
   "outputs": [
    {
     "name": "stdout",
     "output_type": "stream",
     "text": [
      "Model: \"sequential\"\n",
      "_________________________________________________________________\n",
      " Layer (type)                Output Shape              Param #   \n",
      "=================================================================\n",
      " masking (Masking)           (None, 30, 1662)          0         \n",
      "                                                                 \n",
      " lstm (LSTM)                 (None, 64)                442112    \n",
      "                                                                 \n",
      " dense (Dense)               (None, 25)                1625      \n",
      "                                                                 \n",
      "=================================================================\n",
      "Total params: 443,737\n",
      "Trainable params: 443,737\n",
      "Non-trainable params: 0\n",
      "_________________________________________________________________\n"
     ]
    }
   ],
   "source": [
    "model.summary()"
   ]
  },
  {
   "attachments": {},
   "cell_type": "markdown",
   "metadata": {},
   "source": [
    "Saving the model"
   ]
  },
  {
   "cell_type": "code",
   "execution_count": 13,
   "metadata": {},
   "outputs": [],
   "source": [
    "# model.save('ARM_LSTM_second_run.h5')"
   ]
  },
  {
   "attachments": {},
   "cell_type": "markdown",
   "metadata": {},
   "source": [
    "### Prediction"
   ]
  },
  {
   "cell_type": "code",
   "execution_count": 14,
   "metadata": {},
   "outputs": [
    {
     "name": "stdout",
     "output_type": "stream",
     "text": [
      "1/1 [==============================] - 0s 286ms/step\n"
     ]
    },
    {
     "data": {
      "text/plain": [
       "array([[[23,  2],\n",
       "        [ 2,  0]],\n",
       "\n",
       "       [[25,  0],\n",
       "        [ 1,  1]],\n",
       "\n",
       "       [[25,  0],\n",
       "        [ 2,  0]],\n",
       "\n",
       "       [[21,  5],\n",
       "        [ 0,  1]],\n",
       "\n",
       "       [[19,  4],\n",
       "        [ 2,  2]],\n",
       "\n",
       "       [[26,  0],\n",
       "        [ 1,  0]],\n",
       "\n",
       "       [[25,  0],\n",
       "        [ 2,  0]],\n",
       "\n",
       "       [[24,  3],\n",
       "        [ 0,  0]],\n",
       "\n",
       "       [[24,  3],\n",
       "        [ 0,  0]],\n",
       "\n",
       "       [[26,  0],\n",
       "        [ 1,  0]],\n",
       "\n",
       "       [[26,  0],\n",
       "        [ 1,  0]],\n",
       "\n",
       "       [[25,  2],\n",
       "        [ 0,  0]],\n",
       "\n",
       "       [[25,  1],\n",
       "        [ 1,  0]],\n",
       "\n",
       "       [[26,  0],\n",
       "        [ 1,  0]],\n",
       "\n",
       "       [[25,  0],\n",
       "        [ 2,  0]],\n",
       "\n",
       "       [[26,  0],\n",
       "        [ 1,  0]],\n",
       "\n",
       "       [[26,  0],\n",
       "        [ 1,  0]],\n",
       "\n",
       "       [[25,  0],\n",
       "        [ 2,  0]],\n",
       "\n",
       "       [[25,  0],\n",
       "        [ 2,  0]],\n",
       "\n",
       "       [[25,  2],\n",
       "        [ 0,  0]],\n",
       "\n",
       "       [[25,  1],\n",
       "        [ 1,  0]]])"
      ]
     },
     "execution_count": 14,
     "metadata": {},
     "output_type": "execute_result"
    }
   ],
   "source": [
    "yhat = model.predict(X_test)\n",
    "\n",
    "ytrue = np.argmax(y_test, axis=1).tolist()\n",
    "yhat = np.argmax(yhat, axis=1).tolist()\n",
    "\n",
    "multilabel_confusion_matrix(ytrue, yhat)"
   ]
  },
  {
   "cell_type": "code",
   "execution_count": 15,
   "metadata": {},
   "outputs": [
    {
     "name": "stdout",
     "output_type": "stream",
     "text": [
      "Prediction accuracy score:\n"
     ]
    },
    {
     "data": {
      "text/plain": [
       "0.14814814814814814"
      ]
     },
     "execution_count": 15,
     "metadata": {},
     "output_type": "execute_result"
    }
   ],
   "source": [
    "print('Prediction accuracy score:')\n",
    "accuracy_score(ytrue, yhat)"
   ]
  },
  {
   "cell_type": "code",
   "execution_count": 16,
   "metadata": {},
   "outputs": [
    {
     "name": "stdout",
     "output_type": "stream",
     "text": [
      "Expected result = across\n",
      "Model result = adapt\n",
      "\n",
      "Expected result = adapt\n",
      "Model result = adapt\n",
      "\n",
      "Expected result = adjust\n",
      "Model result = accept\n",
      "\n",
      "Expected result = adapt\n",
      "Model result = able\n",
      "\n",
      "Expected result = admit\n",
      "Model result = adapt\n",
      "\n",
      "Expected result = admit\n",
      "Model result = accident\n",
      "\n",
      "Expected result = adjective\n",
      "Model result = adapt\n",
      "\n",
      "Expected result = adapt\n",
      "Model result = admit\n",
      "\n",
      "Expected result = accident\n",
      "Model result = accept\n",
      "\n",
      "Expected result = able\n",
      "Model result = accept\n",
      "\n",
      "Expected result = admit\n",
      "Model result = admit\n",
      "\n",
      "Expected result = adjust\n",
      "Model result = adapt\n",
      "\n",
      "Expected result = admit\n",
      "Model result = admit\n",
      "\n",
      "Expected result = adapt\n",
      "Model result = able\n",
      "\n",
      "Expected result = accident\n",
      "Model result = accident\n",
      "\n",
      "Expected result = adapt\n",
      "Model result = admit\n",
      "\n",
      "Expected result = admit\n",
      "Model result = admit\n",
      "\n",
      "Expected result = admit\n",
      "Model result = adapt\n",
      "\n",
      "Expected result = accept\n",
      "Model result = accept\n",
      "\n",
      "Expected result = adjective\n",
      "Model result = accident\n",
      "\n",
      "Expected result = across\n",
      "Model result = accident\n",
      "\n",
      "Expected result = accept\n",
      "Model result = admit\n",
      "\n",
      "Expected result = accept\n",
      "Model result = adapt\n",
      "\n",
      "Expected result = across\n",
      "Model result = admit\n",
      "\n",
      "Expected result = admit\n",
      "Model result = able\n",
      "\n",
      "Expected result = accident\n",
      "Model result = adapt\n",
      "\n",
      "Expected result = adapt\n",
      "Model result = admit\n",
      "\n"
     ]
    }
   ],
   "source": [
    "for i in range(len(yhat)):\n",
    "    print('Expected result = ' + labels[ytrue[i]])\n",
    "    print('Model result = ' + labels[yhat[i]])\n",
    "    print()"
   ]
  }
 ],
 "metadata": {
  "kernelspec": {
   "display_name": "base",
   "language": "python",
   "name": "python3"
  },
  "language_info": {
   "codemirror_mode": {
    "name": "ipython",
    "version": 3
   },
   "file_extension": ".py",
   "mimetype": "text/x-python",
   "name": "python",
   "nbconvert_exporter": "python",
   "pygments_lexer": "ipython3",
   "version": "3.10.9"
  },
  "orig_nbformat": 4
 },
 "nbformat": 4,
 "nbformat_minor": 2
}
