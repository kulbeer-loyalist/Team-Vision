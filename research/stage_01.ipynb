{
 "cells": [
  {
   "cell_type": "code",
   "execution_count": 15,
   "metadata": {},
   "outputs": [],
   "source": [
    "from collections import namedtuple\n",
    "import os\n",
    "os.chdir(\"../\")\n"
   ]
  },
  {
   "cell_type": "code",
   "execution_count": 16,
   "metadata": {},
   "outputs": [],
   "source": [
    "from dataclasses import dataclass\n",
    "from pathlib import Path\n",
    "\n",
    "@dataclass(frozen=True)\n",
    "class DataIngestionConfig:\n",
    "    root_dir: Path\n",
    "    source_URL: str\n",
    "    local_data_file: Path\n",
    "    unzip_dir: Path\n",
    "    train_dir: Path\n",
    "    test_dir: Path"
   ]
  },
  {
   "cell_type": "code",
   "execution_count": 17,
   "metadata": {},
   "outputs": [],
   "source": [
    "from ASLD_step2.constants import *\n",
    "from ASLD_step2.utils import read_yaml, create_directories\n",
    "\n",
    "\n",
    "CONFIG_FILE_PATH = Path(\"configs/config.yaml\")"
   ]
  },
  {
   "cell_type": "code",
   "execution_count": 18,
   "metadata": {},
   "outputs": [],
   "source": [
    "from ASLD_step2.constants import *\n",
    "from ASLD_step2.utils import read_yaml,create_directories\n",
    "from ASLD_step2.entity import DataIngestionConfig\n",
    "from ASLD_step2.Exception import ASLDException\n",
    "import sys\n",
    "import shutil\n",
    "class Configuration:\n",
    "    def __init__(self,\n",
    "                config_filepath = CONFIG_FILE_PATH\n",
    "                ):\n",
    "        #reading the config.yaml file by importing from constants\n",
    "        self.config = read_yaml(config_filepath)\n",
    "        #creating parent directories entity\n",
    "        create_directories([self.config.artifacts_root])\n",
    "\n",
    "\n",
    "    \"\"\"\n",
    "    this function is written to create the skeletion of DataIngestion entity \n",
    "    and will return path for DataIngestionConfig\n",
    "    \"\"\"  \n",
    "    def get_data_ingestion_config(self) -> DataIngestionConfig:\n",
    "        #read config file to get data_ingestion attributes of DataIngestion\n",
    "        try:\n",
    "            config = self.config.data_ingestion\n",
    "            #create directories for attributes of data_ingestion\n",
    "            create_directories([config.root_dir])\n",
    "            create_directories([config.train_dir])\n",
    "            create_directories([config.test_dir])\n",
    "            \n",
    "            #assign the entity with its properities and return it\n",
    "            data_ingestion_config = DataIngestionConfig(\n",
    "                root_dir = config.root_dir,\n",
    "                source_URL = config.source_URL,\n",
    "                local_data_file = config.local_data_file,\n",
    "                unzip_dir = config.unzip_dir,\n",
    "                train_dir = config.train_dir,\n",
    "                test_dir = config.test_dir\n",
    "            )\n",
    "\n",
    "            return data_ingestion_config  \n",
    "        except Exception as e:\n",
    "            raise ASLDException(e,sys)\n"
   ]
  },
  {
   "cell_type": "code",
   "execution_count": null,
   "metadata": {},
   "outputs": [],
   "source": [
    "from sklearn.model_selection import train_test_split\n",
    "import pandas as pd\n",
    "import shutil\n",
    "\n",
    "def split_videos(self):\n",
    "        # Load the CSV file\n",
    "        csv_file = os.path.join(self.config.unzip_dir,'videos_id.csv')\n",
    "        df = pd.read_csv(csv_file)\n",
    "        captions = df['caption'].tolist()  # Get the captions column\n",
    "        ids = df['ID'].tolist()  # Get the IDs column\n",
    "\n",
    "        # Create a dictionary mapping IDs to captions\n",
    "        id_to_caption = dict(zip(ids, captions))\n",
    "\n",
    "        # List all video files in the video folder\n",
    "        video_files = [f for f in os.listdir(self.config.unzip_dir) if f.endswith(\".mp4\")]\n",
    "\n",
    "        # Split the videos\n",
    "        train_ratio = 0.80\n",
    "        videos_train, videos_test = train_test_split(video_files, train_size=train_ratio, random_state=42)\n",
    "\n",
    "        # Create train and test folders if they don't exist\n",
    "        train_folder = self.config.train_dir\n",
    "        test_folder =  self.config.test_dir\n",
    "        os.makedirs(train_folder, exist_ok=True)\n",
    "        os.makedirs(test_folder, exist_ok=True)\n",
    "\n",
    "        # Move videos to train folder and label them\n",
    "        for video in videos_train:\n",
    "            video_id = os.path.splitext(video)[0]\n",
    "            caption = id_to_caption.get(video_id, \"Unknown\")  # Get the caption for the video ID\n",
    "            labeled_video = f\"{caption}_{video}\"\n",
    "            shutil.move(os.path.join(video_folder, video), os.path.join(train_folder, labeled_video))\n",
    "\n",
    "        # Move videos to test folder and label them\n",
    "        for video in videos_test:\n",
    "            video_id = os.path.splitext(video)[0]\n",
    "            caption = id_to_caption.get(video_id, \"Unknown\")  # Get the caption for the video ID\n",
    "            labeled_video = f\"{caption}_{video}\"\n",
    "            shutil.move(os.path.join(video_folder, video), os.path.join(test_folder, labeled_video))\n",
    "\n",
    "        print(\"Videos split into train and test sets.\")\n"
   ]
  }
 ],
 "metadata": {
  "kernelspec": {
   "display_name": "Python 3",
   "language": "python",
   "name": "python3"
  },
  "language_info": {
   "codemirror_mode": {
    "name": "ipython",
    "version": 3
   },
   "file_extension": ".py",
   "mimetype": "text/x-python",
   "name": "python",
   "nbconvert_exporter": "python",
   "pygments_lexer": "ipython3",
   "version": "3.8.16"
  },
  "orig_nbformat": 4
 },
 "nbformat": 4,
 "nbformat_minor": 2
}
