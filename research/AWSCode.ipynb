{
 "cells": [
  {
   "cell_type": "markdown",
   "id": "6e159019",
   "metadata": {},
   "source": [
    "## Code to upload the videos to S3 bucket"
   ]
  },
  {
   "cell_type": "code",
   "execution_count": 14,
   "id": "f7dbd6a8",
   "metadata": {},
   "outputs": [],
   "source": [
    "import os\n",
    "import boto3\n",
    "\n",
    "def upload_video_to_s3(bucket_name, directory, folder_name):\n",
    "    # Create an S3 client\n",
    "    s3_client = boto3.client('s3')\n",
    "\n",
    "    # Get a list of files in the directory\n",
    "    files = os.listdir(directory)\n",
    "\n",
    "    for file in files:\n",
    "        # Construct the full file path\n",
    "        file_path = os.path.join(directory, file)\n",
    "\n",
    "        # Upload the video file to the S3 bucket inside the specified folder\n",
    "        try:\n",
    "            s3_key = folder_name + '/' + file\n",
    "            s3_client.upload_file(file_path, bucket_name, s3_key)\n",
    "            print(f\"Video uploaded successfully: {s3_key}\")\n",
    "        except Exception as e:\n",
    "            print(f\"Error uploading video: {s3_key} - {e}\")"
   ]
  },
  {
   "cell_type": "code",
   "execution_count": 15,
   "id": "2cca6320",
   "metadata": {},
   "outputs": [
    {
     "name": "stdout",
     "output_type": "stream",
     "text": [
      "Video uploaded successfully: test_data/37430.mp4\n",
      "Video uploaded successfully: test_data/37432.mp4\n"
     ]
    }
   ],
   "source": [
    "# Set the S3 bucket name, directory path, and folder name\n",
    "bucket_name = 'vision-us-east-1-wlasl-data-dev'\n",
    "# Upload the videos to the S3 bucket\n",
    "directory = \"E:\\Study Space\\LCIT\\Semester 2\\AISC2006_Step Presentation\\Project\\ASLD\\Data\\Sample\"\n",
    "folder_name = 'test_data'\n",
    "\n",
    "# Upload the videos to the specified folder inside the S3 bucket\n",
    "upload_video_to_s3(bucket_name, directory, folder_name)"
   ]
  },
  {
   "cell_type": "markdown",
   "id": "f56f460c",
   "metadata": {},
   "source": [
    "## Code to convert videos to images\n",
    "Steps:\n",
    "\n",
    "1) Download videos from Onedrive link shared by Marcus\n",
    "\n",
    "2) run the following code"
   ]
  },
  {
   "cell_type": "code",
   "execution_count": 21,
   "id": "e8955f46",
   "metadata": {},
   "outputs": [],
   "source": [
    "import os\n",
    "import cv2\n",
    "# Path to the folder containing the videos\n",
    "\n",
    "videos_folder = r'E:\\Study Space\\LCIT\\Semester 2\\AISC2006_Step Presentation\\Project\\ASLD\\Data\\Sample'\n",
    "# Path to the folder where you want to save the frames\n",
    "frames_folder = r'E:\\Study Space\\LCIT\\Semester 2\\AISC2006_Step Presentation\\Project\\ASLD\\Data\\Sample_Output'\n",
    "# Iterate over the files in the videos folder\n",
    "for filename in os.listdir(videos_folder):\n",
    "    filepath = os.path.join(videos_folder, filename)\n",
    "    # Check if the file is a video based on the file extension\n",
    "    if os.path.isfile(filepath) and filename.endswith(('.mp4', '.avi', '.mkv')):\n",
    "        # Load the video\n",
    "        video = cv2.VideoCapture(filepath)\n",
    "        # Create a folder to save frames for each video\n",
    "        video_name = os.path.splitext(filename)[0]\n",
    "        video_frames_folder = os.path.join(frames_folder, video_name)\n",
    "        os.makedirs(video_frames_folder, exist_ok=True)\n",
    "        # Process each frame of the video\n",
    "        frame_count = 0\n",
    "        while video.isOpened():\n",
    "            ret, frame = video.read()\n",
    "            if ret:\n",
    "                # Perform frame preprocessing if required\n",
    "                # Generate the frame filename and path\n",
    "                frame_filename = f'{video_name}_{frame_count}.jpg'\n",
    "                frame_path = os.path.join(video_frames_folder, frame_filename)\n",
    "                # Save the frame as an image\n",
    "                cv2.imwrite(frame_path, frame)\n",
    "                # Increment the frame counter\n",
    "                frame_count += 1\n",
    "            else:\n",
    "                break\n",
    "        video.release()"
   ]
  },
  {
   "cell_type": "code",
   "execution_count": null,
   "id": "f2d51e5c",
   "metadata": {},
   "outputs": [],
   "source": []
  }
 ],
 "metadata": {
  "kernelspec": {
   "display_name": "Python 3 (ipykernel)",
   "language": "python",
   "name": "python3"
  },
  "language_info": {
   "codemirror_mode": {
    "name": "ipython",
    "version": 3
   },
   "file_extension": ".py",
   "mimetype": "text/x-python",
   "name": "python",
   "nbconvert_exporter": "python",
   "pygments_lexer": "ipython3",
   "version": "3.11.1"
  }
 },
 "nbformat": 4,
 "nbformat_minor": 5
}
