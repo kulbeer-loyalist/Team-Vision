{
 "cells": [
  {
   "cell_type": "code",
   "execution_count": 1,
   "id": "2daa5b49",
   "metadata": {},
   "outputs": [
    {
     "name": "stdout",
     "output_type": "stream",
     "text": [
      "Requirement already satisfied: kaggle in /Users/rojalpradhan/opt/anaconda3/lib/python3.9/site-packages (1.5.13)\r\n",
      "Requirement already satisfied: python-dateutil in /Users/rojalpradhan/opt/anaconda3/lib/python3.9/site-packages (from kaggle) (2.8.2)\r\n",
      "Requirement already satisfied: certifi in /Users/rojalpradhan/opt/anaconda3/lib/python3.9/site-packages (from kaggle) (2022.9.24)\r\n",
      "Requirement already satisfied: urllib3 in /Users/rojalpradhan/opt/anaconda3/lib/python3.9/site-packages (from kaggle) (1.26.11)\r\n",
      "Requirement already satisfied: six>=1.10 in /Users/rojalpradhan/opt/anaconda3/lib/python3.9/site-packages (from kaggle) (1.16.0)\r\n",
      "Requirement already satisfied: requests in /Users/rojalpradhan/opt/anaconda3/lib/python3.9/site-packages (from kaggle) (2.28.1)\r\n",
      "Requirement already satisfied: tqdm in /Users/rojalpradhan/opt/anaconda3/lib/python3.9/site-packages (from kaggle) (4.64.1)\r\n",
      "Requirement already satisfied: python-slugify in /Users/rojalpradhan/opt/anaconda3/lib/python3.9/site-packages (from kaggle) (5.0.2)\r\n",
      "Requirement already satisfied: text-unidecode>=1.3 in /Users/rojalpradhan/opt/anaconda3/lib/python3.9/site-packages (from python-slugify->kaggle) (1.3)\r\n",
      "Requirement already satisfied: charset-normalizer<3,>=2 in /Users/rojalpradhan/opt/anaconda3/lib/python3.9/site-packages (from requests->kaggle) (2.0.4)\r\n",
      "Requirement already satisfied: idna<4,>=2.5 in /Users/rojalpradhan/opt/anaconda3/lib/python3.9/site-packages (from requests->kaggle) (3.3)\r\n"
     ]
    }
   ],
   "source": [
    "! pip install kaggle"
   ]
  },
  {
   "cell_type": "code",
   "execution_count": 2,
   "id": "77c968f1",
   "metadata": {},
   "outputs": [
    {
     "name": "stdout",
     "output_type": "stream",
     "text": [
      "mkdir: /Users/rojalpradhan/.kaggle: File exists\r\n"
     ]
    }
   ],
   "source": [
    "! mkdir ~/.kaggle"
   ]
  },
  {
   "cell_type": "code",
   "execution_count": 3,
   "id": "7e5d0b43",
   "metadata": {},
   "outputs": [],
   "source": [
    "! cp kaggle.json ~/.kaggle/"
   ]
  },
  {
   "cell_type": "code",
   "execution_count": 4,
   "id": "0626622b",
   "metadata": {},
   "outputs": [],
   "source": [
    "! chmod 600 ~/.kaggle/kaggle.json"
   ]
  },
  {
   "cell_type": "code",
   "execution_count": 5,
   "id": "cb276e42",
   "metadata": {},
   "outputs": [
    {
     "name": "stdout",
     "output_type": "stream",
     "text": [
      "american-sign-language.zip: Skipping, found more recently modified local copy (use --force to force download)\r\n"
     ]
    }
   ],
   "source": [
    "! kaggle datasets download kapillondhe/american-sign-language"
   ]
  },
  {
   "cell_type": "code",
   "execution_count": null,
   "id": "e491dd05",
   "metadata": {
    "scrolled": false
   },
   "outputs": [
    {
     "name": "stdout",
     "output_type": "stream",
     "text": [
      "Archive:  american-sign-language.zip\r\n",
      "replace ASL_Dataset/Test/A/3001.jpg? [y]es, [n]o, [A]ll, [N]one, [r]ename: "
     ]
    }
   ],
   "source": [
    "!unzip american-sign-language.zip"
   ]
  },
  {
   "cell_type": "code",
   "execution_count": 8,
   "id": "d7fc1631",
   "metadata": {},
   "outputs": [],
   "source": [
    "import os\n",
    "import cv2\n",
    "import matplotlib.pyplot as plt\n",
    "import numpy as np\n",
    "from sklearn.preprocessing import LabelBinarizer\n",
    "from keras.models import Sequential\n",
    "from keras.layers import Dense, Conv2D , MaxPool2D , Flatten , Dropout , BatchNormalization\n",
    "from keras.preprocessing.image import ImageDataGenerator"
   ]
  },
  {
   "cell_type": "code",
   "execution_count": 9,
   "id": "aaad498e",
   "metadata": {},
   "outputs": [],
   "source": [
    "train_dir = \"/Users/rojalpradhan/Projects/ASL_project/ASL_Dataset/Train\"\n",
    "test_dir = \"/Users/rojalpradhan/Projects/ASL_project/ASL_Dataset/Test\"\n",
    "\n",
    "def load_images(filepath):\n",
    "    images = []\n",
    "    labels = []\n",
    "    \n",
    "    for class_folder in os.listdir(filepath):\n",
    "        class_path = os.path.join(filepath, class_folder)\n",
    "        if os.path.isdir(class_path):\n",
    "            for filename in os.listdir(class_path):\n",
    "                img = cv2.imread(os.path.join(class_path,filename))\n",
    "                img = cv2.cvtColor(img, cv2.COLOR_BGR2GRAY)\n",
    "                img = cv2.resize(img, (28,28))\n",
    "                images.append(img)\n",
    "                labels.append(class_folder)\n",
    "    \n",
    "    return images , labels\n",
    "\n",
    "train_images , train_labels = load_images(train_dir)"
   ]
  },
  {
   "cell_type": "code",
   "execution_count": 10,
   "id": "e78c6416",
   "metadata": {},
   "outputs": [],
   "source": [
    "test_images , test_labels = load_images(test_dir)"
   ]
  },
  {
   "cell_type": "code",
   "execution_count": 11,
   "id": "dd1323b5",
   "metadata": {},
   "outputs": [],
   "source": [
    "train_images = np.array(train_images)\n",
    "test_images = np.array(test_images)\n",
    "train_labels = np.array(train_labels)\n",
    "test_labels = np.array(test_labels)"
   ]
  },
  {
   "cell_type": "code",
   "execution_count": 12,
   "id": "93f6ac91",
   "metadata": {},
   "outputs": [],
   "source": [
    "train_images = train_images / 255.0\n",
    "test_images = test_images / 255.0"
   ]
  },
  {
   "cell_type": "code",
   "execution_count": 13,
   "id": "a54c2067",
   "metadata": {},
   "outputs": [
    {
     "data": {
      "image/png": "[encoded data removed]",
      "text/plain": [
       "<Figure size 640x480 with 1 Axes>"
      ]
     },
     "metadata": {},
     "output_type": "display_data"
    }
   ],
   "source": [
    "train_images = train_images.reshape(-1,28,28,1)\n",
    "test_images = test_images.reshape(-1,28,28,1)\n",
    "plt.imshow(train_images[0])\n",
    "plt.show()"
   ]
  },
  {
   "cell_type": "code",
   "execution_count": 14,
   "id": "d5be69a1",
   "metadata": {},
   "outputs": [],
   "source": [
    "label_binarizer = LabelBinarizer()\n",
    "train_labels = label_binarizer.fit_transform(train_labels)\n",
    "test_labels = label_binarizer.transform(test_labels)"
   ]
  },
  {
   "cell_type": "code",
   "execution_count": 15,
   "id": "1d1f5d77",
   "metadata": {},
   "outputs": [],
   "source": [
    "datagen = ImageDataGenerator(\n",
    "        featurewise_center=False,\n",
    "        samplewise_center=False, \n",
    "        featurewise_std_normalization=False,\n",
    "        samplewise_std_normalization=False,\n",
    "        zca_whitening=False,\n",
    "        rotation_range=10,\n",
    "        zoom_range = 0.1, \n",
    "        width_shift_range=0.1,\n",
    "        height_shift_range=0.1,\n",
    "        horizontal_flip=False,\n",
    "        vertical_flip=False)\n",
    "\n",
    "datagen.fit(train_images)"
   ]
  },
  {
   "cell_type": "code",
   "execution_count": 16,
   "id": "10e66f51",
   "metadata": {},
   "outputs": [],
   "source": [
    "model = Sequential()\n",
    "model.add(Conv2D(75 , (3,3) , strides = 1 , padding = 'same' , activation = 'relu' , input_shape = (28,28,1)))\n",
    "model.add(BatchNormalization())\n",
    "model.add(MaxPool2D((2,2) , strides = 2 , padding = 'same'))\n",
    "model.add(Conv2D(50 , (3,3) , strides = 1 , padding = 'same' , activation = 'relu'))\n",
    "model.add(Dropout(0.2))\n",
    "model.add(BatchNormalization())\n",
    "model.add(MaxPool2D((2,2) , strides = 2 , padding = 'same'))\n",
    "model.add(Conv2D(25 , (3,3) , strides = 1 , padding = 'same' , activation = 'relu'))\n",
    "model.add(BatchNormalization())\n",
    "model.add(MaxPool2D((2,2) , strides = 2 , padding = 'same'))\n",
    "model.add(Flatten())\n",
    "model.add(Dense(units = 512 , activation = 'relu'))\n",
    "model.add(Dropout(0.3))\n",
    "model.add(Dense(units = 28 , activation = 'softmax'))"
   ]
  },
  {
   "cell_type": "code",
   "execution_count": 18,
   "id": "ff83e74a",
   "metadata": {},
   "outputs": [
    {
     "name": "stdout",
     "output_type": "stream",
     "text": [
      "Model: \"sequential_2\"\n",
      "_________________________________________________________________\n",
      " Layer (type)                Output Shape              Param #   \n",
      "=================================================================\n",
      " conv2d_6 (Conv2D)           (None, 28, 28, 75)        750       \n",
      "                                                                 \n",
      " batch_normalization_6 (Batc  (None, 28, 28, 75)       300       \n",
      " hNormalization)                                                 \n",
      "                                                                 \n",
      " max_pooling2d_6 (MaxPooling  (None, 14, 14, 75)       0         \n",
      " 2D)                                                             \n",
      "                                                                 \n",
      " conv2d_7 (Conv2D)           (None, 14, 14, 50)        33800     \n",
      "                                                                 \n",
      " dropout_4 (Dropout)         (None, 14, 14, 50)        0         \n",
      "                                                                 \n",
      " batch_normalization_7 (Batc  (None, 14, 14, 50)       200       \n",
      " hNormalization)                                                 \n",
      "                                                                 \n",
      " max_pooling2d_7 (MaxPooling  (None, 7, 7, 50)         0         \n",
      " 2D)                                                             \n",
      "                                                                 \n",
      " conv2d_8 (Conv2D)           (None, 7, 7, 25)          11275     \n",
      "                                                                 \n",
      " batch_normalization_8 (Batc  (None, 7, 7, 25)         100       \n",
      " hNormalization)                                                 \n",
      "                                                                 \n",
      " max_pooling2d_8 (MaxPooling  (None, 4, 4, 25)         0         \n",
      " 2D)                                                             \n",
      "                                                                 \n",
      " flatten_2 (Flatten)         (None, 400)               0         \n",
      "                                                                 \n",
      " dense_4 (Dense)             (None, 512)               205312    \n",
      "                                                                 \n",
      " dropout_5 (Dropout)         (None, 512)               0         \n",
      "                                                                 \n",
      " dense_5 (Dense)             (None, 28)                14364     \n",
      "                                                                 \n",
      "=================================================================\n",
      "Total params: 266,101\n",
      "Trainable params: 265,801\n",
      "Non-trainable params: 300\n",
      "_________________________________________________________________\n",
      "Epoch 1/20\n"
     ]
    },
    {
     "name": "stderr",
     "output_type": "stream",
     "text": [
      "2023-06-17 19:48:48.874736: W tensorflow/tsl/platform/profile_utils/cpu_utils.cc:128] Failed to get CPU frequency: 0 Hz\n"
     ]
    },
    {
     "name": "stdout",
     "output_type": "stream",
     "text": [
      "1295/1295 [==============================] - 44s 30ms/step - loss: 0.2816 - accuracy: 0.9151 - val_loss: 0.0293 - val_accuracy: 0.9821\n",
      "Epoch 2/20\n",
      "1295/1295 [==============================] - 36s 28ms/step - loss: 0.0463 - accuracy: 0.9867 - val_loss: 2.9308 - val_accuracy: 0.6964\n",
      "Epoch 3/20\n",
      "1295/1295 [==============================] - 36s 27ms/step - loss: 0.0442 - accuracy: 0.9898 - val_loss: 0.2817 - val_accuracy: 0.9643\n",
      "Epoch 4/20\n",
      "1295/1295 [==============================] - 36s 28ms/step - loss: 0.0426 - accuracy: 0.9918 - val_loss: 48.3181 - val_accuracy: 0.2589\n",
      "Epoch 5/20\n",
      "1295/1295 [==============================] - 36s 28ms/step - loss: 0.0431 - accuracy: 0.9932 - val_loss: 0.0000e+00 - val_accuracy: 1.0000\n",
      "Epoch 6/20\n",
      "1295/1295 [==============================] - 37s 28ms/step - loss: 0.0408 - accuracy: 0.9938 - val_loss: 1.8867e-05 - val_accuracy: 1.0000\n",
      "Epoch 7/20\n",
      "1295/1295 [==============================] - 36s 28ms/step - loss: 0.0455 - accuracy: 0.9945 - val_loss: 1.1495e-07 - val_accuracy: 1.0000\n",
      "Epoch 8/20\n",
      "1295/1295 [==============================] - 36s 28ms/step - loss: 0.0430 - accuracy: 0.9952 - val_loss: 7.7818e-05 - val_accuracy: 1.0000\n",
      "Epoch 9/20\n",
      "1295/1295 [==============================] - 36s 28ms/step - loss: 0.0427 - accuracy: 0.9956 - val_loss: 1.2791 - val_accuracy: 0.9286\n",
      "Epoch 10/20\n",
      "1295/1295 [==============================] - 36s 28ms/step - loss: 0.0450 - accuracy: 0.9958 - val_loss: 0.5669 - val_accuracy: 0.9643\n",
      "Epoch 11/20\n",
      "1295/1295 [==============================] - 36s 28ms/step - loss: 0.0439 - accuracy: 0.9964 - val_loss: 0.0277 - val_accuracy: 0.9821\n",
      "Epoch 12/20\n",
      "1295/1295 [==============================] - 36s 28ms/step - loss: 0.0420 - accuracy: 0.9967 - val_loss: 2.2473 - val_accuracy: 0.9018\n",
      "Epoch 13/20\n",
      "1295/1295 [==============================] - 36s 28ms/step - loss: 0.0455 - accuracy: 0.9968 - val_loss: 0.0000e+00 - val_accuracy: 1.0000\n",
      "Epoch 14/20\n",
      "1295/1295 [==============================] - 36s 28ms/step - loss: 0.0432 - accuracy: 0.9971 - val_loss: 0.0000e+00 - val_accuracy: 1.0000\n",
      "Epoch 15/20\n",
      "1295/1295 [==============================] - 36s 28ms/step - loss: 0.0438 - accuracy: 0.9973 - val_loss: 0.0000e+00 - val_accuracy: 1.0000\n",
      "Epoch 16/20\n",
      "1295/1295 [==============================] - 36s 28ms/step - loss: 0.0423 - accuracy: 0.9973 - val_loss: 0.0000e+00 - val_accuracy: 1.0000\n",
      "Epoch 17/20\n",
      "1295/1295 [==============================] - 36s 28ms/step - loss: 0.0456 - accuracy: 0.9976 - val_loss: 0.0000e+00 - val_accuracy: 1.0000\n",
      "Epoch 18/20\n",
      "1295/1295 [==============================] - 37s 28ms/step - loss: 0.0501 - accuracy: 0.9974 - val_loss: 0.0000e+00 - val_accuracy: 1.0000\n",
      "Epoch 19/20\n",
      "1295/1295 [==============================] - 37s 28ms/step - loss: 0.0476 - accuracy: 0.9978 - val_loss: 37.9699 - val_accuracy: 0.6786\n",
      "Epoch 20/20\n",
      "1295/1295 [==============================] - 37s 28ms/step - loss: 0.0454 - accuracy: 0.9978 - val_loss: 0.0990 - val_accuracy: 0.9821\n"
     ]
    }
   ],
   "source": [
    "model.compile(optimizer = 'adam' , loss = 'categorical_crossentropy' , metrics = ['accuracy'])\n",
    "model.summary()\n",
    "\n",
    "history = model.fit(datagen.flow(train_images,train_labels, batch_size = 128) ,epochs = 20 , validation_data = (test_images, test_labels))\n",
    "\n",
    "model.save('smnist.h5')"
   ]
  },
  {
   "cell_type": "code",
   "execution_count": null,
   "id": "8f283885",
   "metadata": {},
   "outputs": [],
   "source": []
  }
 ],
 "metadata": {
  "kernelspec": {
   "display_name": "Python 3 (ipykernel)",
   "language": "python",
   "name": "python3"
  },
  "language_info": {
   "codemirror_mode": {
    "name": "ipython",
    "version": 3
   },
   "file_extension": ".py",
   "mimetype": "text/x-python",
   "name": "python",
   "nbconvert_exporter": "python",
   "pygments_lexer": "ipython3",
   "version": "3.10.9"
  }
 },
 "nbformat": 4,
 "nbformat_minor": 5
}
